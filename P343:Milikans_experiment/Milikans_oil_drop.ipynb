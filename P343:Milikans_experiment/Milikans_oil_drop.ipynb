{
  "nbformat": 4,
  "nbformat_minor": 0,
  "metadata": {
    "colab": {
      "provenance": [],
      "include_colab_link": true
    },
    "kernelspec": {
      "name": "python3",
      "display_name": "Python 3"
    },
    "language_info": {
      "name": "python"
    }
  },
  "cells": [
    {
      "cell_type": "markdown",
      "metadata": {
        "id": "view-in-github",
        "colab_type": "text"
      },
      "source": [
        "<a href=\"https://colab.research.google.com/github/sSteam-cube/Optics_lab_codes_and_data/blob/main/P343%3AMilikans_experiment/Milikans_oil_drop.ipynb\" target=\"_parent\"><img src=\"https://colab.research.google.com/assets/colab-badge.svg\" alt=\"Open In Colab\"/></a>"
      ]
    },
    {
      "cell_type": "markdown",
      "source": [
        "# Dynamic Method\n"
      ],
      "metadata": {
        "id": "N1-afeeFFlHX"
      }
    },
    {
      "cell_type": "code",
      "source": [
        "import numpy as np\n",
        "import pandas as pd\n",
        "import statistics as stats\n",
        "\n",
        "# Constants\n",
        "C = 190.13\n",
        "D = 9.04e-9\n",
        "zeta = 4.06e-8\n",
        "L = 1.0e-3  # distance between lines in m\n",
        "\n",
        "\n",
        "dynamic_data =  [\n",
        "    ([15.8, 16, 16.5, 19.5, 18.4], [8.1, 7.5, 8.1, 7.7, 7.6], 294),  # Droplet 1\n",
        "    ([16.2, 17.0, 16.3, 16.8, 17.4], [4.3, 4.2, 4.2, 4.2, 4.1], 140),  # Droplet 2\n",
        "    ([17.4, 15.6, 15.8, 15.7, 15.5], [2.1, 2.1, 2.2, 2.1, 2.4], 141),  # Droplet 3\n",
        "    ([21.9, 20.2, 20.6, 19.6, 20.8], [7.0, 7.1, 7.1, 6.4, 7.1], 274),  # Droplet 4\n",
        "    ([17.6, 18.0, 18.0, 16.2], [4.8, 4.8, 4.7, 5.2], 140),             # Droplet 5\n",
        "    ([5.4, 5.4, 5.4, 5.7, 5.7], [4.4, 4.7, 4.3, 4.0, 4.5], 300)        # Droplet 6\n",
        "]\n",
        "\n",
        "# Compute means\n",
        "data = [\n",
        "    [stats.mean(pos), stats.mean(vel), val]\n",
        "    for pos, vel, val in dynamic_data\n",
        "]\n",
        "\n",
        "results = []\n",
        "\n",
        "for tf, tr, V in data:\n",
        "    vf = L / tf                      # free-fall velocity\n",
        "    xi = D * vf                      # ξ\n",
        "    r = -zeta + np.sqrt(zeta**2 + xi)  # radius\n",
        "    r3 = r**3\n",
        "    T = 1 + (tf / tr)\n",
        "    ne = (C * T * r3) / V            # charge\n",
        "    results.append([xi, r, r3, T, ne])\n",
        "\n",
        "# Make a table\n",
        "df = pd.DataFrame(results, columns=[\"ξ (m²)\", \"r (m)\", \"r³ (m³)\", \"T\", \"ne (C)\"])\n",
        "print(df)"
      ],
      "metadata": {
        "colab": {
          "base_uri": "https://localhost:8080/"
        },
        "id": "wYqtVU2WrdC0",
        "outputId": "03028a7d-31c2-40c6-9672-b1783201578a"
      },
      "execution_count": null,
      "outputs": [
        {
          "output_type": "stream",
          "name": "stdout",
          "text": [
            "         ξ (m²)         r (m)       r³ (m³)         T        ne (C)\n",
            "0  5.243619e-13  6.846657e-07  3.209487e-19  3.210256  6.663137e-19\n",
            "1  5.400239e-13  6.953839e-07  3.362589e-19  4.985714  2.276795e-18\n",
            "2  5.650000e-13  7.121605e-07  3.611883e-19  8.339450  4.061651e-18\n",
            "3  4.384093e-13  6.227684e-07  2.415348e-19  3.971182  6.655790e-19\n",
            "4  5.180516e-13  6.803022e-07  3.148514e-19  4.579487  1.958146e-18\n",
            "5  1.637681e-12  1.239763e-06  1.905531e-18  2.260274  2.729647e-18\n"
          ]
        }
      ]
    },
    {
      "cell_type": "code",
      "source": [
        "# --- Continue from your previous code ---\n",
        "\n",
        "# Extract ne column\n",
        "ne_values = df[\"ne (C)\"].to_numpy()\n",
        "\n",
        "# Step 1: minimum value of ne\n",
        "ne_min = ne_values.min()\n",
        "\n",
        "# Step 2–4: build the table\n",
        "table = []\n",
        "for ne in ne_values:\n",
        "    ratio = ne / ne_min\n",
        "    n_eff = int(round(ratio))  # nearest integer\n",
        "    e_val = ne / n_eff\n",
        "    table.append([ne, ratio, n_eff, e_val])\n",
        "\n",
        "# Step 5: average e\n",
        "avg_e = np.mean([row[3] for row in table])\n",
        "\n",
        "# Create DataFrame for clarity\n",
        "df_dynamic = pd.DataFrame(\n",
        "    table,\n",
        "    columns=[\"ne (C)\", \"ne / lowest\", \"nearest integer (n_eff)\", \"ne / n_eff\"]\n",
        ")\n",
        "\n",
        "print(\"Dynamic Method Data:\\n\", df_dynamic)\n",
        "print(\"\\nAverage elementary charge estimate =\", avg_e)\n"
      ],
      "metadata": {
        "colab": {
          "base_uri": "https://localhost:8080/"
        },
        "id": "nb9VvIPYwTeo",
        "outputId": "59b2310e-6be9-4101-9c1c-442704ef3693"
      },
      "execution_count": null,
      "outputs": [
        {
          "output_type": "stream",
          "name": "stdout",
          "text": [
            "Dynamic Method Data:\n",
            "          ne (C)  ne / lowest  nearest integer (n_eff)    ne / n_eff\n",
            "0  6.663137e-19     1.001104                        1  6.663137e-19\n",
            "1  2.276795e-18     3.420773                        3  7.589315e-19\n",
            "2  4.061651e-18     6.102432                        6  6.769418e-19\n",
            "3  6.655790e-19     1.000000                        1  6.655790e-19\n",
            "4  1.958146e-18     2.942019                        3  6.527153e-19\n",
            "5  2.729647e-18     4.101162                        4  6.824118e-19\n",
            "\n",
            "Average elementary charge estimate = 6.838154966323025e-19\n"
          ]
        }
      ]
    },
    {
      "cell_type": "markdown",
      "source": [
        "# Balancing Method"
      ],
      "metadata": {
        "id": "XEF-ZI_zFeIQ"
      }
    },
    {
      "cell_type": "code",
      "source": [
        "import numpy as np\n",
        "import pandas as pd\n",
        "import statistics as stats\n",
        "\n",
        "# Constants (from manual)\n",
        "C = 190.13\n",
        "D = 9.04e-9\n",
        "zeta = 4.06e-8\n",
        "L = 1.0e-3  # distance between preset lines (m)\n",
        "\n",
        "# Example input: ([free-fall times], Vb)\n",
        "balancing_data = [\n",
        "    ([15.8, 16, 16.5, 19.5, 18.4], 294),  # Droplet 1\n",
        "    ([16.2, 17.0, 16.3, 16.8, 17.4], 140),  # Droplet 2\n",
        "    ([17.4, 15.6, 15.8, 15.7, 15.5], 141),  # Droplet 3\n",
        "    ([21.9, 20.2, 20.6, 19.6, 20.8], 274),  # Droplet 4\n",
        "    ([17.6, 18.0, 18.0, 16.2], 140),        # Droplet 5\n",
        "    ([5.4, 5.4, 5.4, 5.7, 5.7], 300)        # Droplet 6\n",
        "]\n",
        "\n",
        "results = []\n",
        "\n",
        "for times, Vb in balancing_data:\n",
        "    tf = stats.mean(times)       # mean free-fall time\n",
        "    vf = L / tf                  # free-fall velocity\n",
        "    xi = D * vf                  # ξ\n",
        "    r = -zeta + np.sqrt(zeta**2 + xi)  # radius\n",
        "    r3 = r**3\n",
        "    ne = (C * r3) / Vb           # charge\n",
        "    results.append([xi, r, r3, ne])\n",
        "\n",
        "# Balancing Method Table\n",
        "df_balancing = pd.DataFrame(\n",
        "    results,\n",
        "    columns=[\"ξ (m²)\", \"r (m)\", \"r³ (m³)\", \"ne (C)\"],\n",
        "    index=[f\"Droplet {i+1}\" for i in range(len(results))]\n",
        ")\n",
        "\n",
        "# --- Analysis and Treatment (Balancing Method) ---\n",
        "ne_values = df_balancing[\"ne (C)\"].to_numpy()\n",
        "ne_min = ne_values.min()\n",
        "\n",
        "analysis_table = []\n",
        "for ne in ne_values:\n",
        "    ratio = ne / ne_min\n",
        "    n_eff = int(round(ratio))  # nearest integer\n",
        "    e_val = ne / n_eff\n",
        "    analysis_table.append([ne, ratio, n_eff, e_val])\n",
        "\n",
        "df_analysis = pd.DataFrame(\n",
        "    analysis_table,\n",
        "    columns=[\"ne (C)\", \"ne / lowest\", \"nearest integer (n_eff)\", \"ne / n_eff\"],\n",
        "    index=[f\"Droplet {i+1}\" for i in range(len(analysis_table))]\n",
        ")\n",
        "\n",
        "avg_e = np.mean(df_analysis[\"ne / n_eff\"])\n",
        "\n",
        "# --- Output ---\n",
        "pd.set_option(\"display.float_format\", \"{:.3e}\".format)\n",
        "\n",
        "print(\"Balancing Method Data:\\n\", df_balancing)\n",
        "print(\"\\nAnalysis & Treatment:\\n\", df_analysis)\n",
        "print(f\"\\nFinal average e ≈ {avg_e:.3e} C\")\n"
      ],
      "metadata": {
        "colab": {
          "base_uri": "https://localhost:8080/"
        },
        "id": "q9npEctUFu7b",
        "outputId": "f9e12437-75e4-4418-9a6d-ccc3f35c50af"
      },
      "execution_count": null,
      "outputs": [
        {
          "output_type": "stream",
          "name": "stdout",
          "text": [
            "Balancing Method Data:\n",
            "              ξ (m²)     r (m)   r³ (m³)    ne (C)\n",
            "Droplet 1 5.244e-13 6.847e-07 3.209e-19 2.076e-19\n",
            "Droplet 2 5.400e-13 6.954e-07 3.363e-19 4.567e-19\n",
            "Droplet 3 5.650e-13 7.122e-07 3.612e-19 4.870e-19\n",
            "Droplet 4 4.384e-13 6.228e-07 2.415e-19 1.676e-19\n",
            "Droplet 5 5.181e-13 6.803e-07 3.149e-19 4.276e-19\n",
            "Droplet 6 1.638e-12 1.240e-06 1.906e-18 1.208e-18\n",
            "\n",
            "Analysis & Treatment:\n",
            "              ne (C)  ne / lowest  nearest integer (n_eff)  ne / n_eff\n",
            "Droplet 1 2.076e-19    1.238e+00                        1   2.076e-19\n",
            "Droplet 2 4.567e-19    2.725e+00                        3   1.522e-19\n",
            "Droplet 3 4.870e-19    2.906e+00                        3   1.623e-19\n",
            "Droplet 4 1.676e-19    1.000e+00                        1   1.676e-19\n",
            "Droplet 5 4.276e-19    2.551e+00                        3   1.425e-19\n",
            "Droplet 6 1.208e-18    7.206e+00                        7   1.725e-19\n",
            "\n",
            "Final average e ≈ 1.675e-19 C\n"
          ]
        }
      ]
    }
  ]
}